{
 "cells": [
  {
   "cell_type": "code",
   "execution_count": 4,
   "id": "37dfb4c6",
   "metadata": {},
   "outputs": [],
   "source": [
    "# import required dependencies\n",
    "import numpy as np\n",
    "import pandas as pd\n",
    "import matplotlib.pyplot as plt\n",
    "%matplotlib inline\n",
    "import seaborn as sns\n",
    "import warnings\n",
    "warnings.filterwarnings(action='ignore')\n",
    "from sklearn.model_selection import train_test_split\n",
    "from sklearn.linear_model import LinearRegression\n",
    "from sklearn.metrics import mean_squared_error, mean_absolute_error, r2_score"
   ]
  },
  {
   "cell_type": "code",
   "execution_count": 5,
   "id": "a14d0895",
   "metadata": {},
   "outputs": [],
   "source": [
    "# import dataset\n",
    "performance = pd.read_csv(r'C:\\Users\\Nitesh Bhattarai\\Desktop\\StudentPerformance\\student_study_root\\study_labour\\notebook\\student_scores - student_scores.csv')"
   ]
  },
  {
   "cell_type": "markdown",
   "id": "ffdcd4ff",
   "metadata": {},
   "source": [
    "# viewing data"
   ]
  },
  {
   "cell_type": "code",
   "execution_count": 6,
   "id": "23b04e78",
   "metadata": {},
   "outputs": [
    {
     "data": {
      "text/html": [
       "<div>\n",
       "<style scoped>\n",
       "    .dataframe tbody tr th:only-of-type {\n",
       "        vertical-align: middle;\n",
       "    }\n",
       "\n",
       "    .dataframe tbody tr th {\n",
       "        vertical-align: top;\n",
       "    }\n",
       "\n",
       "    .dataframe thead th {\n",
       "        text-align: right;\n",
       "    }\n",
       "</style>\n",
       "<table border=\"1\" class=\"dataframe\">\n",
       "  <thead>\n",
       "    <tr style=\"text-align: right;\">\n",
       "      <th></th>\n",
       "      <th>Hours</th>\n",
       "      <th>Scores</th>\n",
       "    </tr>\n",
       "  </thead>\n",
       "  <tbody>\n",
       "    <tr>\n",
       "      <th>0</th>\n",
       "      <td>2.5</td>\n",
       "      <td>21</td>\n",
       "    </tr>\n",
       "    <tr>\n",
       "      <th>1</th>\n",
       "      <td>5.1</td>\n",
       "      <td>47</td>\n",
       "    </tr>\n",
       "    <tr>\n",
       "      <th>2</th>\n",
       "      <td>3.2</td>\n",
       "      <td>27</td>\n",
       "    </tr>\n",
       "    <tr>\n",
       "      <th>3</th>\n",
       "      <td>8.5</td>\n",
       "      <td>75</td>\n",
       "    </tr>\n",
       "    <tr>\n",
       "      <th>4</th>\n",
       "      <td>3.5</td>\n",
       "      <td>30</td>\n",
       "    </tr>\n",
       "  </tbody>\n",
       "</table>\n",
       "</div>"
      ],
      "text/plain": [
       "   Hours  Scores\n",
       "0    2.5      21\n",
       "1    5.1      47\n",
       "2    3.2      27\n",
       "3    8.5      75\n",
       "4    3.5      30"
      ]
     },
     "execution_count": 6,
     "metadata": {},
     "output_type": "execute_result"
    }
   ],
   "source": [
    "performance.head()"
   ]
  },
  {
   "cell_type": "code",
   "execution_count": 7,
   "id": "4bc181ed",
   "metadata": {},
   "outputs": [
    {
     "data": {
      "text/html": [
       "<div>\n",
       "<style scoped>\n",
       "    .dataframe tbody tr th:only-of-type {\n",
       "        vertical-align: middle;\n",
       "    }\n",
       "\n",
       "    .dataframe tbody tr th {\n",
       "        vertical-align: top;\n",
       "    }\n",
       "\n",
       "    .dataframe thead th {\n",
       "        text-align: right;\n",
       "    }\n",
       "</style>\n",
       "<table border=\"1\" class=\"dataframe\">\n",
       "  <thead>\n",
       "    <tr style=\"text-align: right;\">\n",
       "      <th></th>\n",
       "      <th>Hours</th>\n",
       "      <th>Scores</th>\n",
       "    </tr>\n",
       "  </thead>\n",
       "  <tbody>\n",
       "    <tr>\n",
       "      <th>20</th>\n",
       "      <td>2.7</td>\n",
       "      <td>30</td>\n",
       "    </tr>\n",
       "    <tr>\n",
       "      <th>21</th>\n",
       "      <td>4.8</td>\n",
       "      <td>54</td>\n",
       "    </tr>\n",
       "    <tr>\n",
       "      <th>22</th>\n",
       "      <td>3.8</td>\n",
       "      <td>35</td>\n",
       "    </tr>\n",
       "    <tr>\n",
       "      <th>23</th>\n",
       "      <td>6.9</td>\n",
       "      <td>76</td>\n",
       "    </tr>\n",
       "    <tr>\n",
       "      <th>24</th>\n",
       "      <td>7.8</td>\n",
       "      <td>86</td>\n",
       "    </tr>\n",
       "  </tbody>\n",
       "</table>\n",
       "</div>"
      ],
      "text/plain": [
       "    Hours  Scores\n",
       "20    2.7      30\n",
       "21    4.8      54\n",
       "22    3.8      35\n",
       "23    6.9      76\n",
       "24    7.8      86"
      ]
     },
     "execution_count": 7,
     "metadata": {},
     "output_type": "execute_result"
    }
   ],
   "source": [
    "performance.tail()"
   ]
  },
  {
   "cell_type": "code",
   "execution_count": 9,
   "id": "4ae82129",
   "metadata": {},
   "outputs": [
    {
     "data": {
      "text/plain": [
       "(25, 2)"
      ]
     },
     "execution_count": 9,
     "metadata": {},
     "output_type": "execute_result"
    }
   ],
   "source": [
    "performance.shape"
   ]
  },
  {
   "cell_type": "code",
   "execution_count": 10,
   "id": "23bbaa63",
   "metadata": {},
   "outputs": [
    {
     "data": {
      "text/plain": [
       "50"
      ]
     },
     "execution_count": 10,
     "metadata": {},
     "output_type": "execute_result"
    }
   ],
   "source": [
    "performance.size"
   ]
  },
  {
   "cell_type": "code",
   "execution_count": 11,
   "id": "e4ff5553",
   "metadata": {},
   "outputs": [
    {
     "name": "stdout",
     "output_type": "stream",
     "text": [
      "<class 'pandas.core.frame.DataFrame'>\n",
      "RangeIndex: 25 entries, 0 to 24\n",
      "Data columns (total 2 columns):\n",
      " #   Column  Non-Null Count  Dtype  \n",
      "---  ------  --------------  -----  \n",
      " 0   Hours   25 non-null     float64\n",
      " 1   Scores  25 non-null     int64  \n",
      "dtypes: float64(1), int64(1)\n",
      "memory usage: 528.0 bytes\n"
     ]
    }
   ],
   "source": [
    "performance.info()"
   ]
  },
  {
   "cell_type": "code",
   "execution_count": 12,
   "id": "9f8104a6",
   "metadata": {},
   "outputs": [
    {
     "data": {
      "text/plain": [
       "Hours     0\n",
       "Scores    0\n",
       "dtype: int64"
      ]
     },
     "execution_count": 12,
     "metadata": {},
     "output_type": "execute_result"
    }
   ],
   "source": [
    "performance.isnull().sum()"
   ]
  },
  {
   "cell_type": "code",
   "execution_count": 16,
   "id": "f7915f78",
   "metadata": {},
   "outputs": [
    {
     "data": {
      "text/plain": [
       "pandas.core.frame.DataFrame"
      ]
     },
     "execution_count": 16,
     "metadata": {},
     "output_type": "execute_result"
    }
   ],
   "source": [
    "type(performance)"
   ]
  },
  {
   "cell_type": "code",
   "execution_count": 17,
   "id": "689d5276",
   "metadata": {},
   "outputs": [
    {
     "data": {
      "text/plain": [
       "Index(['Hours', 'Scores'], dtype='object')"
      ]
     },
     "execution_count": 17,
     "metadata": {},
     "output_type": "execute_result"
    }
   ],
   "source": [
    "performance.columns"
   ]
  },
  {
   "cell_type": "code",
   "execution_count": 21,
   "id": "c3207a7c",
   "metadata": {},
   "outputs": [],
   "source": [
    "performance.columns = performance.columns.str.lower()"
   ]
  },
  {
   "cell_type": "markdown",
   "id": "2e1dcc8a",
   "metadata": {},
   "source": [
    "# Visualizing data"
   ]
  },
  {
   "cell_type": "code",
   "execution_count": 23,
   "id": "713d4968",
   "metadata": {},
   "outputs": [
    {
     "data": {
      "text/plain": [
       "<AxesSubplot:xlabel='hours', ylabel='scores'>"
      ]
     },
     "execution_count": 23,
     "metadata": {},
     "output_type": "execute_result"
    },
    {
     "data": {
      "image/png": "[encoded data removed]",
      "text/plain": [
       "<Figure size 432x288 with 1 Axes>"
      ]
     },
     "metadata": {
      "needs_background": "light"
     },
     "output_type": "display_data"
    }
   ],
   "source": [
    "sns.scatterplot(data=performance, x=performance.iloc[:,0], y=performance.iloc[:,-1])"
   ]
  },
  {
   "cell_type": "code",
   "execution_count": 24,
   "id": "48a2316e",
   "metadata": {},
   "outputs": [
    {
     "data": {
      "text/plain": [
       "<AxesSubplot:xlabel='hours', ylabel='scores'>"
      ]
     },
     "execution_count": 24,
     "metadata": {},
     "output_type": "execute_result"
    },
    {
     "data": {
      "image/png": "[encoded data removed]",
      "text/plain": [
       "<Figure size 432x288 with 1 Axes>"
      ]
     },
     "metadata": {
      "needs_background": "light"
     },
     "output_type": "display_data"
    }
   ],
   "source": [
    "sns.regplot(data=performance, x=performance.iloc[:,0], y=performance.iloc[:,-1])"
   ]
  },
  {
   "cell_type": "code",
   "execution_count": 25,
   "id": "94368ed2",
   "metadata": {},
   "outputs": [],
   "source": [
    "# splits the data\n",
    "x = performance.iloc[:,0] \n",
    "y = performance.iloc[:,-1]"
   ]
  },
  {
   "cell_type": "code",
   "execution_count": 30,
   "id": "d0025df6",
   "metadata": {},
   "outputs": [
    {
     "name": "stdout",
     "output_type": "stream",
     "text": [
      "(20,) (5,) (20,) (5,)\n"
     ]
    }
   ],
   "source": [
    "x_train, x_test, y_train, y_test = train_test_split(x, y, test_size=.2, random_state=40)\n",
    "print(x_train.shape, x_test.shape, y_train.shape, y_test.shape)"
   ]
  },
  {
   "cell_type": "code",
   "execution_count": 46,
   "id": "a02ef748",
   "metadata": {},
   "outputs": [],
   "source": [
    "x_train, x_test, y_train, y_test = pd.DataFrame(data=x_train), pd.DataFrame(data=x_test), pd.DataFrame(data=y_train), pd.DataFrame(data=y_test)"
   ]
  },
  {
   "cell_type": "code",
   "execution_count": 47,
   "id": "d63518d9",
   "metadata": {},
   "outputs": [],
   "source": [
    "Performance_score_model = LinearRegression()"
   ]
  },
  {
   "cell_type": "code",
   "execution_count": 48,
   "id": "78a9964e",
   "metadata": {},
   "outputs": [
    {
     "data": {
      "text/plain": [
       "LinearRegression()"
      ]
     },
     "execution_count": 48,
     "metadata": {},
     "output_type": "execute_result"
    }
   ],
   "source": [
    "Performance_score_model.fit(x_train, y_train)"
   ]
  },
  {
   "cell_type": "code",
   "execution_count": 51,
   "id": "8e205dfb",
   "metadata": {},
   "outputs": [],
   "source": [
    "y_predict_score_train = Performance_score_model.predict(x_train)"
   ]
  },
  {
   "cell_type": "code",
   "execution_count": 52,
   "id": "4046b2e7",
   "metadata": {},
   "outputs": [
    {
     "data": {
      "text/plain": [
       "0.9504931730009657"
      ]
     },
     "execution_count": 52,
     "metadata": {},
     "output_type": "execute_result"
    }
   ],
   "source": [
    "r2_score(y_train, y_predict_score_train)"
   ]
  },
  {
   "cell_type": "code",
   "execution_count": 64,
   "id": "fdf82897",
   "metadata": {},
   "outputs": [
    {
     "data": {
      "image/png": "[encoded data removed]",
      "text/plain": [
       "<Figure size 432x288 with 1 Axes>"
      ]
     },
     "metadata": {
      "needs_background": "light"
     },
     "output_type": "display_data"
    }
   ],
   "source": [
    "sns.regplot(x=x_train, y=y_train, color='g', marker='+')\n",
    "plt.title('hrs/day vs score in train')\n",
    "plt.show()"
   ]
  },
  {
   "cell_type": "code",
   "execution_count": 61,
   "id": "129499d3",
   "metadata": {},
   "outputs": [
    {
     "data": {
      "image/png": "[encoded data removed]",
      "text/plain": [
       "<Figure size 432x288 with 1 Axes>"
      ]
     },
     "metadata": {
      "needs_background": "light"
     },
     "output_type": "display_data"
    }
   ],
   "source": [
    "sns.regplot(x=x_train, y=y_predict_score_train, color='g', marker='+')\n",
    "plt.title('hrs/day vs score in y_predicted train')\n",
    "plt.show()"
   ]
  },
  {
   "cell_type": "code",
   "execution_count": 62,
   "id": "b80b1c4b",
   "metadata": {},
   "outputs": [],
   "source": [
    "y_predict_score_test = Performance_score_model.predict(x_test)"
   ]
  },
  {
   "cell_type": "markdown",
   "id": "ca873508",
   "metadata": {},
   "source": [
    "# Metrics "
   ]
  },
  {
   "cell_type": "code",
   "execution_count": 63,
   "id": "7e5ff929",
   "metadata": {},
   "outputs": [
    {
     "data": {
      "text/plain": [
       "0.9466449081971943"
      ]
     },
     "execution_count": 63,
     "metadata": {},
     "output_type": "execute_result"
    }
   ],
   "source": [
    "r2_score(y_test, y_predict_score_test)"
   ]
  },
  {
   "cell_type": "code",
   "execution_count": 72,
   "id": "3abbe9e6",
   "metadata": {},
   "outputs": [
    {
     "data": {
      "text/plain": [
       "6.457450193167183"
      ]
     },
     "execution_count": 72,
     "metadata": {},
     "output_type": "execute_result"
    }
   ],
   "source": [
    "mean_absolute_error(y_test, y_predict_score_test)"
   ]
  },
  {
   "cell_type": "code",
   "execution_count": 73,
   "id": "eaf8ec9c",
   "metadata": {},
   "outputs": [
    {
     "data": {
      "text/plain": [
       "44.1652107906905"
      ]
     },
     "execution_count": 73,
     "metadata": {},
     "output_type": "execute_result"
    }
   ],
   "source": [
    "mean_squared_error(y_test, y_predict_score_test)"
   ]
  },
  {
   "cell_type": "code",
   "execution_count": 75,
   "id": "4693d74a",
   "metadata": {},
   "outputs": [
    {
     "data": {
      "text/plain": [
       "6.645691144695975"
      ]
     },
     "execution_count": 75,
     "metadata": {},
     "output_type": "execute_result"
    }
   ],
   "source": [
    "mean_squared_error(y_test, y_predict_score_test, squared=False)"
   ]
  },
  {
   "cell_type": "code",
   "execution_count": 67,
   "id": "4f619875",
   "metadata": {},
   "outputs": [
    {
     "data": {
      "image/png": "[encoded data removed]",
      "text/plain": [
       "<Figure size 432x288 with 1 Axes>"
      ]
     },
     "metadata": {
      "needs_background": "light"
     },
     "output_type": "display_data"
    }
   ],
   "source": [
    "sns.regplot(x=x_test, y=y_test, color='g', marker='*')\n",
    "plt.title('hrs/day vs score in test')\n",
    "plt.show()"
   ]
  },
  {
   "cell_type": "code",
   "execution_count": 70,
   "id": "102a98de",
   "metadata": {},
   "outputs": [
    {
     "data": {
      "image/png": "[encoded data removed]",
      "text/plain": [
       "<Figure size 432x288 with 1 Axes>"
      ]
     },
     "metadata": {
      "needs_background": "light"
     },
     "output_type": "display_data"
    }
   ],
   "source": [
    "sns.regplot(x=x_test, y=y_predict_score_test, color='g', marker='*')\n",
    "plt.title('hrs/day vs score in y_predicted test')\n",
    "plt.show()"
   ]
  },
  {
   "cell_type": "markdown",
   "id": "363d99ae",
   "metadata": {},
   "source": [
    "# Equation of Linear Regression \n",
    "# y = mx + c"
   ]
  },
  {
   "cell_type": "code",
   "execution_count": 78,
   "id": "788b305d",
   "metadata": {},
   "outputs": [
    {
     "name": "stdout",
     "output_type": "stream",
     "text": [
      "Intercept of simple linear regression :  [1.7557382]\n"
     ]
    }
   ],
   "source": [
    "c = Performance_score_model.intercept_\n",
    "print('Intercept of simple linear regression : ', c)"
   ]
  },
  {
   "cell_type": "code",
   "execution_count": 79,
   "id": "72c13389",
   "metadata": {},
   "outputs": [
    {
     "name": "stdout",
     "output_type": "stream",
     "text": [
      "Coefficient of simple linear regression :  [[9.74054996]]\n"
     ]
    }
   ],
   "source": [
    "m = Performance_score_model.coef_\n",
    "print('Coefficient of simple linear regression : ', m)"
   ]
  },
  {
   "cell_type": "markdown",
   "id": "819a9ae9",
   "metadata": {},
   "source": [
    "# y is dependent variable i.e. predicted score,\n",
    "# x is independent variable i.e. study hrs/day,\n",
    "# y = 9.74054996*x + 1.7557382"
   ]
  },
  {
   "cell_type": "code",
   "execution_count": 84,
   "id": "e29def75",
   "metadata": {},
   "outputs": [
    {
     "data": {
      "text/plain": [
       "array([[91.85582532]])"
      ]
     },
     "execution_count": 84,
     "metadata": {},
     "output_type": "execute_result"
    }
   ],
   "source": [
    "# What will be predicted score if a student studies for 9.25 hrs/day ?\n",
    "Performance_score_model.predict([[9.25]])"
   ]
  },
  {
   "cell_type": "code",
   "execution_count": 95,
   "id": "72f0c7d9",
   "metadata": {},
   "outputs": [
    {
     "name": "stdout",
     "output_type": "stream",
     "text": [
      "student studying 9.25 hrs/day will score 92%:\n"
     ]
    }
   ],
   "source": [
    "y = 9.74054996*9.25 + 1.7557382\n",
    "print('student studying {} hrs/day will score {}%:'.format(9.25, round(y)))"
   ]
  },
  {
   "cell_type": "code",
   "execution_count": null,
   "id": "b83b8a3f",
   "metadata": {},
   "outputs": [],
   "source": []
  }
 ],
 "metadata": {
  "kernelspec": {
   "display_name": "Python 3",
   "language": "python",
   "name": "python3"
  },
  "language_info": {
   "codemirror_mode": {
    "name": "ipython",
    "version": 3
   },
   "file_extension": ".py",
   "mimetype": "text/x-python",
   "name": "python",
   "nbconvert_exporter": "python",
   "pygments_lexer": "ipython3",
   "version": "3.8.8"
  }
 },
 "nbformat": 4,
 "nbformat_minor": 5
}
